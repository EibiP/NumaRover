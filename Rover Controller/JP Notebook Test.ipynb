{
 "cells": [
  {
   "cell_type": "code",
   "execution_count": null,
   "id": "potential-tsunami",
   "metadata": {},
   "outputs": [],
   "source": [
    "import ipywidgets.widgets as widgets\n",
    "from IPython.display import display\n",
    "from jetcam.utils import bgr8_to_jpeg\n",
    "from jetcam.usb_camera import USBCamera\n",
    "import traitlets\n",
    "from uuid import uuid1\n",
    "import os\n",
    "import json\n",
    "import glob\n",
    "import datetime\n",
    "import numpy as np\n",
    "import cv2\n",
    "import imutils\n",
    "import time\n",
    "import subprocess"
   ]
  },
  {
   "cell_type": "code",
   "execution_count": null,
   "id": "guilty-listening",
   "metadata": {},
   "outputs": [],
   "source": [
    "subprocess.call(\"sh bashWheel.sh 0\", shell=True)\n",
    "subprocess.call(\"sh bashTurn.sh 500\", shell=True)\n",
    "\n",
    "controller = widgets.Controller(index=0)  # replace with index of your controller\n",
    "display(controller)"
   ]
  },
  {
   "cell_type": "code",
   "execution_count": null,
   "id": "prostate-anthony",
   "metadata": {},
   "outputs": [],
   "source": [
    "dead_zone_limit = 0.1\n",
    "password = 'jetson'\n",
    "\n",
    "leftRightVal = 0.0\n",
    "\n",
    "def upDown(change):\n",
    "    val = change['new']\n",
    "    if val < -dead_zone_limit: # Up\n",
    "#         subprocess.call(\"echo {} | sudo -S sh bashWheel.sh 1000\".format(password), shell=True)\n",
    "        subprocess.call(\"echo {} | sudo -S sh newForward.sh\".format(password), shell=True)\n",
    "    elif val > dead_zone_limit: # Down\n",
    "#         print(\"Down\")\n",
    "#         subprocess.call(\"echo {} | sudo -S sh bashWheelBack.sh 1000\".format(password), shell=True)\n",
    "        subprocess.call(\"echo {} | sudo -S sh newReverse.sh\".format(password), shell=True)\n",
    "    elif round(val) == 0.0:\n",
    "        subprocess.call(\"echo {} | sudo -S sh bashWheelBack.sh 0\".format(password), shell=True)\n",
    "#     print(val)\n",
    "    \n",
    "def leftRight(change):\n",
    "    # 700 / 500 / 300\n",
    "    val = change['new']\n",
    "    adjust_val = (((val + 1) * 400) / 2) + 300\n",
    "    if val > dead_zone_limit: # Right 350\n",
    "        subprocess.call(\"echo {} | sudo -S sh bashTurn.sh {}\".format(password, str(round(adjust_val))), shell=True)\n",
    "    elif val < -dead_zone_limit: # Left 650\n",
    "        subprocess.call(\"echo {} | sudo -S sh bashTurn.sh {}\".format(password, str(round(adjust_val))), shell=True)\n",
    "    elif round(val) == 0.0:\n",
    "        subprocess.call(\"echo {} | sudo -S sh bashTurn.sh 500\".format(password), shell=True)\n",
    "    global leftRightVal\n",
    "    leftRightVal = val\n",
    "#     print(leftRightVal)\n",
    "    \n",
    "# Controlling throttle with C-Stick\n",
    "controller.axes[5].observe(upDown, names='value')\n",
    "\n",
    "# Controlling turns with Main Joystick\n",
    "controller.axes[0].observe(leftRight, names='value')"
   ]
  },
  {
   "cell_type": "code",
   "execution_count": null,
   "id": "proper-entertainment",
   "metadata": {},
   "outputs": [],
   "source": [
    "camera = USBCamera(width=360, height=360)\n",
    "image = camera.read()\n",
    "image_widget =  widgets.Image(format='jpeg')\n",
    "camera.running = True\n",
    "\n",
    "def update_image(change):\n",
    "    image = change['new']\n",
    "    image_widget.value = bgr8_to_jpeg(image)\n",
    "    \n",
    "camera.observe(update_image, names='value')\n",
    "display(image_widget)"
   ]
  },
  {
   "cell_type": "code",
   "execution_count": null,
   "id": "scheduled-therapy",
   "metadata": {},
   "outputs": [],
   "source": [
    "global DATASET_DIR \n",
    "DATASET_DIR = 'Images'\n",
    "\n",
    "for b in controller.buttons:\n",
    "    b.unobserve_all()\n",
    "\n",
    "count_widget = widgets.IntText(description='count', value=len(glob.glob(os.path.join(DATASET_DIR, '*.jpg'))))\n",
    "\n",
    "counter = 20708\n",
    "def save_snapshot(change):\n",
    "    global counter\n",
    "    if change['new']:\n",
    "        image_path = os.path.join(DATASET_DIR, str(counter) + \" \"+ str(leftRightVal) + '.jpg')\n",
    "        counter += 1\n",
    "        with open(image_path, 'wb') as f:\n",
    "            f.write(image_widget.value)\n",
    "        count_widget.value = len(glob.glob(os.path.join(DATASET_DIR, '*.jpg')))\n",
    "\n",
    "controller.buttons[5].observe(save_snapshot, names='value')"
   ]
  },
  {
   "cell_type": "code",
   "execution_count": null,
   "id": "gentle-kennedy",
   "metadata": {},
   "outputs": [],
   "source": [
    "camera.stop()"
   ]
  },
  {
   "cell_type": "code",
   "execution_count": null,
   "id": "declared-criminal",
   "metadata": {},
   "outputs": [],
   "source": []
  }
 ],
 "metadata": {
  "kernelspec": {
   "display_name": "Python 3",
   "language": "python",
   "name": "python3"
  },
  "language_info": {
   "codemirror_mode": {
    "name": "ipython",
    "version": 3
   },
   "file_extension": ".py",
   "mimetype": "text/x-python",
   "name": "python",
   "nbconvert_exporter": "python",
   "pygments_lexer": "ipython3",
   "version": "3.6.9"
  }
 },
 "nbformat": 4,
 "nbformat_minor": 5
}
